{
 "cells": [
  {
   "cell_type": "code",
   "execution_count": 36,
   "metadata": {
    "collapsed": true
   },
   "outputs": [],
   "source": [
    "import numpy as np\n",
    "from scipy import signal as sp"
   ]
  },
  {
   "cell_type": "code",
   "execution_count": 66,
   "metadata": {
    "collapsed": false
   },
   "outputs": [
    {
     "name": "stdout",
     "output_type": "stream",
     "text": [
      "[  8.  14.  25.  36.  47.  10.  25.]\n",
      "[  8.  14.  25.  36.  47.  10.  25.]\n",
      "[  8.  14.  25.  36.  47.  18.  39.]\n"
     ]
    }
   ],
   "source": [
    "# linear convolution\n",
    "x = np.array([1,2,3,4,5],dtype='float')\n",
    "h = np.array([8,-2,5])\n",
    "y = np.convolve(x,h)\n",
    "print(y)\n",
    "y = sp.lfilter(h,[1],np.hstack((x,[0,0])))\n",
    "print(y)\n",
    "y = sp.lfilter(h,[1],np.hstack((x,[1,2]))) # it is not circular!!\n",
    "print(y)"
   ]
  },
  {
   "cell_type": "code",
   "execution_count": 17,
   "metadata": {
    "collapsed": false
   },
   "outputs": [
    {
     "name": "stdout",
     "output_type": "stream",
     "text": [
      "[  8.  14.  25.  36.  47.  10.  25.]\n"
     ]
    }
   ],
   "source": [
    "# equivalent linear convolution in frequency domain\n",
    "xx = np.hstack((x,[0,0]))\n",
    "hh = np.hstack((h,[0 , 0, 0, 0]))\n",
    "X = np.fft.fft(xx)\n",
    "H = np.fft.fft(hh)\n",
    "Y = X*H\n",
    "y = abs(np.fft.ifft(Y))\n",
    "print(y)"
   ]
  },
  {
   "cell_type": "code",
   "execution_count": 26,
   "metadata": {
    "collapsed": false
   },
   "outputs": [
    {
     "name": "stdout",
     "output_type": "stream",
     "text": [
      "[  8  14  25  44  61  30  51  32 -10]\n",
      "[  8  14  25  44  61  30  51  32 -10]\n",
      "[25 44 61 30 51]\n",
      "[25 44 61 30 51]\n"
     ]
    }
   ],
   "source": [
    "# circular convolution\n",
    "x = np.array([1,2,3,4,5])\n",
    "h = np.array([8,-2,5,8,-2]) # note that this is circular\n",
    "y = np.convolve(x,h)\n",
    "print(y)\n",
    "y = np.convolve(h,x)\n",
    "print(y)\n",
    "y = np.convolve(x,h,'same')\n",
    "print(y)\n",
    "y = np.convolve(h,x,'same')\n",
    "print(y)"
   ]
  },
  {
   "cell_type": "code",
   "execution_count": 43,
   "metadata": {
    "collapsed": false
   },
   "outputs": [
    {
     "name": "stdout",
     "output_type": "stream",
     "text": [
      "[ 72.  66.  96.  85.  79.  59.  83.]\n"
     ]
    }
   ],
   "source": [
    "X = np.fft.fft(np.hstack((x,[1,2])))\n",
    "H = np.fft.fft(np.hstack((h,[8,-2,5,8])))\n",
    "Y = X*H\n",
    "y = abs(np.fft.ifft(Y))\n",
    "print(y)"
   ]
  }
 ],
 "metadata": {
  "kernelspec": {
   "display_name": "Python 3",
   "language": "python",
   "name": "python3"
  },
  "language_info": {
   "codemirror_mode": {
    "name": "ipython",
    "version": 3
   },
   "file_extension": ".py",
   "mimetype": "text/x-python",
   "name": "python",
   "nbconvert_exporter": "python",
   "pygments_lexer": "ipython3",
   "version": "3.6.0"
  }
 },
 "nbformat": 4,
 "nbformat_minor": 2
}
